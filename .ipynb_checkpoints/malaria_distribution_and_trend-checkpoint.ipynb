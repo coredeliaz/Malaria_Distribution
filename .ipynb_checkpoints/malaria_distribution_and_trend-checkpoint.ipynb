{
 "cells": [
  {
   "cell_type": "markdown",
   "id": "0e7667bf",
   "metadata": {},
   "source": [
    "# Incidence of Malaria\n"
   ]
  },
  {
   "cell_type": "code",
   "execution_count": null,
   "id": "71132c5c",
   "metadata": {},
   "outputs": [],
   "source": []
  }
 ],
 "metadata": {
  "kernelspec": {
   "display_name": "Python 3 (ipykernel)",
   "language": "python",
   "name": "python3"
  },
  "language_info": {
   "codemirror_mode": {
    "name": "ipython",
    "version": 3
   },
   "file_extension": ".py",
   "mimetype": "text/x-python",
   "name": "python",
   "nbconvert_exporter": "python",
   "pygments_lexer": "ipython3",
   "version": "3.9.7"
  }
 },
 "nbformat": 4,
 "nbformat_minor": 5
}
